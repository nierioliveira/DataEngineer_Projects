{
 "cells": [
  {
   "cell_type": "code",
   "execution_count": 0,
   "metadata": {
    "application/vnd.databricks.v1+cell": {
     "cellMetadata": {
      "byteLimit": 2048000,
      "rowLimit": 10000
     },
     "inputWidgets": {},
     "nuid": "02bb809d-4ff3-44f1-81e7-95da9ca92472",
     "showTitle": false,
     "title": ""
    }
   },
   "outputs": [],
   "source": [
    "from pyspark.sql.types import StructField, StructType, StringType, IntegerType, DecimalType, BooleanType, DateType"
   ]
  },
  {
   "cell_type": "code",
   "execution_count": 0,
   "metadata": {
    "application/vnd.databricks.v1+cell": {
     "cellMetadata": {
      "byteLimit": 2048000,
      "rowLimit": 10000
     },
     "inputWidgets": {},
     "nuid": "51e78db1-1efd-4359-912f-b2e3ef3969f9",
     "showTitle": false,
     "title": ""
    }
   },
   "outputs": [],
   "source": [
    "from pyspark.sql import SparkSession\n",
    "\n",
    "spark = SparkSession.builder.appName(('IPL Project')).getOrCreate()"
   ]
  },
  {
   "cell_type": "code",
   "execution_count": 0,
   "metadata": {
    "application/vnd.databricks.v1+cell": {
     "cellMetadata": {
      "byteLimit": 2048000,
      "rowLimit": 10000
     },
     "inputWidgets": {},
     "nuid": "b2e805a7-bf6c-4efc-8fef-69e07325ebd4",
     "showTitle": false,
     "title": ""
    }
   },
   "outputs": [],
   "source": [
    "analise_dados_bolas = spark.read.format(\"csv\").option(\"header\", \"true\").option('inferSchema', 'true').load(\"s3://ipl-data-analysis-project/Ball_By_Ball.csv\")"
   ]
  },
  {
   "cell_type": "code",
   "execution_count": 0,
   "metadata": {
    "application/vnd.databricks.v1+cell": {
     "cellMetadata": {
      "byteLimit": 2048000,
      "rowLimit": 10000
     },
     "inputWidgets": {},
     "nuid": "59b455d4-fd60-4565-b214-79ed6e441466",
     "showTitle": false,
     "title": ""
    }
   },
   "outputs": [],
   "source": [
    "analise_dados_bolas_schema = StructType([\n",
    "    StructField(\"match_id\", IntegerType(), True),\n",
    "    StructField(\"over_id\", IntegerType(), True),\n",
    "    StructField(\"ball_id\", IntegerType(), True),\n",
    "    StructField(\"innings_no\", IntegerType(), True),\n",
    "    StructField(\"team_batting\", StringType(), True),\n",
    "    StructField(\"team_bowling\", StringType(), True),\n",
    "    StructField(\"striker_batting_position\", IntegerType(), True),\n",
    "    StructField(\"extra_type\", StringType(), True),\n",
    "    StructField(\"runs_scored\", IntegerType(), True),\n",
    "    StructField(\"extra_runs\", IntegerType(), True),\n",
    "    StructField(\"wides\", IntegerType(), True),\n",
    "    StructField(\"legbyes\", IntegerType(), True),\n",
    "    StructField(\"byes\", IntegerType(), True),\n",
    "    StructField(\"noballs\", IntegerType(), True),\n",
    "    StructField(\"penalty\", IntegerType(), True),\n",
    "    StructField(\"bowler_extras\", IntegerType(), True),\n",
    "    StructField(\"out_type\", StringType(), True),\n",
    "    StructField(\"caught\", BooleanType(), True),\n",
    "    StructField(\"bowled\", BooleanType(), True),\n",
    "    StructField(\"run_out\", BooleanType(), True),\n",
    "    StructField(\"lbw\", BooleanType(), True),\n",
    "    StructField(\"retired_hurt\", BooleanType(), True),\n",
    "    StructField(\"stumped\", BooleanType(), True),\n",
    "    StructField(\"caught_and_bowled\", BooleanType(), True),\n",
    "    StructField(\"hit_wicket\", BooleanType(), True),\n",
    "    StructField(\"obstructingfeild\", BooleanType(), True),\n",
    "    StructField(\"bowler_wicket\", BooleanType(), True),\n",
    "    StructField(\"match_date\", DateType(), True),\n",
    "    StructField(\"season\", IntegerType(), True),\n",
    "    StructField(\"striker\", IntegerType(), True),\n",
    "    StructField(\"non_striker\", IntegerType(), True),\n",
    "    StructField(\"bowler\", IntegerType(), True),\n",
    "    StructField(\"player_out\", IntegerType(), True),\n",
    "    StructField(\"fielders\", IntegerType(), True),\n",
    "    StructField(\"striker_match_sk\", IntegerType(), True),\n",
    "    StructField(\"strikersk\", IntegerType(), True),\n",
    "    StructField(\"nonstriker_match_sk\", IntegerType(), True),\n",
    "    StructField(\"nonstriker_sk\", IntegerType(), True),\n",
    "    StructField(\"fielder_match_sk\", IntegerType(), True),\n",
    "    StructField(\"fielder_sk\", IntegerType(), True),\n",
    "    StructField(\"bowler_match_sk\", IntegerType(), True),\n",
    "    StructField(\"bowler_sk\", IntegerType(), True),\n",
    "    StructField(\"playerout_match_sk\", IntegerType(), True),\n",
    "    StructField(\"battingteam_sk\", IntegerType(), True),\n",
    "    StructField(\"bowlingteam_sk\", IntegerType(), True),\n",
    "    StructField(\"keeper_catch\", BooleanType(), True),\n",
    "    StructField(\"player_out_sk\", IntegerType(), True),\n",
    "    StructField(\"matchdatesk\", DateType(), True)\n",
    "])"
   ]
  },
  {
   "cell_type": "code",
   "execution_count": 0,
   "metadata": {
    "application/vnd.databricks.v1+cell": {
     "cellMetadata": {
      "byteLimit": 2048000,
      "rowLimit": 10000
     },
     "inputWidgets": {},
     "nuid": "43496c24-de84-4abb-a40c-6758d0501ad5",
     "showTitle": false,
     "title": ""
    }
   },
   "outputs": [
    {
     "output_type": "stream",
     "name": "stdout",
     "output_type": "stream",
     "text": [
      "Out[16]: StructType([StructField('match_id', IntegerType(), True), StructField('over_id', IntegerType(), True), StructField('ball_id', IntegerType(), True), StructField('innings_no', IntegerType(), True), StructField('team_batting', StringType(), True), StructField('team_bowling', StringType(), True), StructField('striker_batting_position', IntegerType(), True), StructField('extra_type', StringType(), True), StructField('runs_scored', IntegerType(), True), StructField('extra_runs', IntegerType(), True), StructField('wides', IntegerType(), True), StructField('legbyes', IntegerType(), True), StructField('byes', IntegerType(), True), StructField('noballs', IntegerType(), True), StructField('penalty', IntegerType(), True), StructField('bowler_extras', IntegerType(), True), StructField('out_type', StringType(), True), StructField('caught', BooleanType(), True), StructField('bowled', BooleanType(), True), StructField('run_out', BooleanType(), True), StructField('lbw', BooleanType(), True), StructField('retired_hurt', BooleanType(), True), StructField('stumped', BooleanType(), True), StructField('caught_and_bowled', BooleanType(), True), StructField('hit_wicket', BooleanType(), True), StructField('obstructingfeild', BooleanType(), True), StructField('bowler_wicket', BooleanType(), True), StructField('match_date', DateType(), True), StructField('season', IntegerType(), True), StructField('striker', IntegerType(), True), StructField('non_striker', IntegerType(), True), StructField('bowler', IntegerType(), True), StructField('player_out', IntegerType(), True), StructField('fielders', IntegerType(), True), StructField('striker_match_sk', IntegerType(), True), StructField('strikersk', IntegerType(), True), StructField('nonstriker_match_sk', IntegerType(), True), StructField('nonstriker_sk', IntegerType(), True), StructField('fielder_match_sk', IntegerType(), True), StructField('fielder_sk', IntegerType(), True), StructField('bowler_match_sk', IntegerType(), True), StructField('bowler_sk', IntegerType(), True), StructField('playerout_match_sk', IntegerType(), True), StructField('battingteam_sk', IntegerType(), True), StructField('bowlingteam_sk', IntegerType(), True), StructField('keeper_catch', BooleanType(), True), StructField('player_out_sk', IntegerType(), True), StructField('matchdatesk', DateType(), True)])"
     ]
    }
   ],
   "source": [
    "analise_dados_bolas_schema"
   ]
  },
  {
   "cell_type": "code",
   "execution_count": 0,
   "metadata": {
    "application/vnd.databricks.v1+cell": {
     "cellMetadata": {},
     "inputWidgets": {},
     "nuid": "3450fd17-d17f-46df-837b-680f47053ffa",
     "showTitle": false,
     "title": ""
    }
   },
   "outputs": [],
   "source": []
  }
 ],
 "metadata": {
  "application/vnd.databricks.v1+notebook": {
   "dashboards": [],
   "environmentMetadata": null,
   "language": "python",
   "notebookMetadata": {
    "pythonIndentUnit": 4
   },
   "notebookName": "IPL_PROJECT",
   "widgets": {}
  }
 },
 "nbformat": 4,
 "nbformat_minor": 0
}
